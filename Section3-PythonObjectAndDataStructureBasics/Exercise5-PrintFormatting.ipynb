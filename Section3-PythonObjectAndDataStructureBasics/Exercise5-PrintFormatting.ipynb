{
 "cells": [
  {
   "cell_type": "code",
   "execution_count": 2,
   "id": "21144bb9-b718-4038-bf53-3e6b7ae963b6",
   "metadata": {},
   "outputs": [],
   "source": [
    "#Write an expression using any of the string formatting methods we have learned (except f-strings, see note below)\n",
    "#to return the phrase 'Python rules!' \n",
    "#For example, these phrases both return 'I like apples' :\n",
    "\n",
    "    #'I like %s' %'apples'\n",
    "    #'I like {}'.format('apples')\n",
    "\n",
    "#Your solution should be entered on one line. You can not use variable names, only the strings themselves.\n",
    "\n",
    "#NOTE: At this time, f-strings won't work! Udemy Coding Exercises use Python 3.5.2, and f-strings require Python 3.6 or higher."
   ]
  },
  {
   "cell_type": "code",
   "execution_count": 3,
   "id": "a73d876f-a8ab-4b19-8bb4-a4104fedfbb7",
   "metadata": {},
   "outputs": [
    {
     "data": {
      "text/plain": [
       "'Python rules!'"
      ]
     },
     "execution_count": 3,
     "metadata": {},
     "output_type": "execute_result"
    }
   ],
   "source": [
    "'{} {}!'.format('Python', 'rules')"
   ]
  },
  {
   "cell_type": "code",
   "execution_count": null,
   "id": "509f0892-5ac0-44c2-b757-1e0f6275ba95",
   "metadata": {},
   "outputs": [],
   "source": []
  },
  {
   "cell_type": "code",
   "execution_count": null,
   "id": "da6d62c8-c5a6-4525-8d31-9eec74e677e9",
   "metadata": {},
   "outputs": [],
   "source": []
  }
 ],
 "metadata": {
  "kernelspec": {
   "display_name": "Python [conda env:base] *",
   "language": "python",
   "name": "conda-base-py"
  },
  "language_info": {
   "codemirror_mode": {
    "name": "ipython",
    "version": 3
   },
   "file_extension": ".py",
   "mimetype": "text/x-python",
   "name": "python",
   "nbconvert_exporter": "python",
   "pygments_lexer": "ipython3",
   "version": "3.13.5"
  }
 },
 "nbformat": 4,
 "nbformat_minor": 5
}
