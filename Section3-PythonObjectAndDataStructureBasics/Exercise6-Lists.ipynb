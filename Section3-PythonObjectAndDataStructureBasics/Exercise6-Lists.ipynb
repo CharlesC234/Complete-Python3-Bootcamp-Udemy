{
 "cells": [
  {
   "cell_type": "code",
   "execution_count": 1,
   "id": "d33b7f5b-566c-48ab-86a7-1e3cb72c6515",
   "metadata": {},
   "outputs": [],
   "source": [
    "#Create a list that contains at least one string, one integer and one float.\n",
    "#For example:\n",
    "\n",
    "#[1, 'two', 3.14159] \n",
    "\n",
    "#Note that the order and number of items doesn't matter. \n",
    "#The answer should just be one list on a single line. Don't assign a variable name to the list."
   ]
  },
  {
   "cell_type": "code",
   "execution_count": 2,
   "id": "61cc1128-5aaa-4606-88d6-4194a9235ac8",
   "metadata": {},
   "outputs": [
    {
     "data": {
      "text/plain": [
       "[2.22, 'Hello World', 55]"
      ]
     },
     "execution_count": 2,
     "metadata": {},
     "output_type": "execute_result"
    }
   ],
   "source": [
    "[2.22, 'Hello World', 55]"
   ]
  },
  {
   "cell_type": "code",
   "execution_count": null,
   "id": "74316b89-310d-4c82-860d-ef9492beb04c",
   "metadata": {},
   "outputs": [],
   "source": []
  }
 ],
 "metadata": {
  "kernelspec": {
   "display_name": "Python [conda env:base] *",
   "language": "python",
   "name": "conda-base-py"
  },
  "language_info": {
   "codemirror_mode": {
    "name": "ipython",
    "version": 3
   },
   "file_extension": ".py",
   "mimetype": "text/x-python",
   "name": "python",
   "nbconvert_exporter": "python",
   "pygments_lexer": "ipython3",
   "version": "3.13.5"
  }
 },
 "nbformat": 4,
 "nbformat_minor": 5
}
