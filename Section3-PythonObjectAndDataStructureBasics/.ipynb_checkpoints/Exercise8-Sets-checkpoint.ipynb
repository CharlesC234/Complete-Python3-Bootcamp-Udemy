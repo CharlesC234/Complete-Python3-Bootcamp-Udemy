{
 "cells": [
  {
   "cell_type": "code",
   "execution_count": 1,
   "id": "04c63724-194c-4029-bb38-bb1f39dc488a",
   "metadata": {},
   "outputs": [],
   "source": [
    "#Write an expression that would turn the string 'Mississippi'  into a set of unique letters.\n",
    "#For example:\n",
    "\n",
    "#set('Parallel') \n",
    "\n",
    "#would return the set {'P', 'a', 'e', 'l', 'r'}\n",
    "#You should only write one line of code for this. Do not assign a variable name to the set."
   ]
  },
  {
   "cell_type": "code",
   "execution_count": 2,
   "id": "5030c6f5-ee6c-4fe5-b793-8c54ba352e11",
   "metadata": {},
   "outputs": [
    {
     "data": {
      "text/plain": [
       "{'M', 'i', 'p', 's'}"
      ]
     },
     "execution_count": 2,
     "metadata": {},
     "output_type": "execute_result"
    }
   ],
   "source": [
    "set('Mississippi')"
   ]
  },
  {
   "cell_type": "code",
   "execution_count": null,
   "id": "f7c71535-ff99-48e6-9ef7-01756821a08a",
   "metadata": {},
   "outputs": [],
   "source": []
  }
 ],
 "metadata": {
  "kernelspec": {
   "display_name": "Python [conda env:base] *",
   "language": "python",
   "name": "conda-base-py"
  },
  "language_info": {
   "codemirror_mode": {
    "name": "ipython",
    "version": 3
   },
   "file_extension": ".py",
   "mimetype": "text/x-python",
   "name": "python",
   "nbconvert_exporter": "python",
   "pygments_lexer": "ipython3",
   "version": "3.13.5"
  }
 },
 "nbformat": 4,
 "nbformat_minor": 5
}
