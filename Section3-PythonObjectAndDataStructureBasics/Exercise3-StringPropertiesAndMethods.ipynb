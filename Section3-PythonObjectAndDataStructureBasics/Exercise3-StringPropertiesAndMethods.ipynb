{
 "cells": [
  {
   "cell_type": "code",
   "execution_count": 2,
   "id": "4277ff0d-e499-4bd4-a7b9-0a26eb6712e1",
   "metadata": {},
   "outputs": [],
   "source": [
    "#Write a string index that returns just the letter 'r'  from 'Hello World' .\n",
    "#For example, 'Hello World'[0]  returns 'H' \n",
    "#You should only write one line of code for this. Do not assign a variable name to the string.\n",
    "\n",
    "# Write your string index below\n",
    "# Start with 'Hello World'\n",
    "# and make sure to match spaces and capitalization exactly"
   ]
  },
  {
   "cell_type": "code",
   "execution_count": 3,
   "id": "9e876a2c-79d7-4aff-85d2-f98f429128c5",
   "metadata": {},
   "outputs": [],
   "source": [
    "mystring = 'Hello World'"
   ]
  },
  {
   "cell_type": "code",
   "execution_count": 4,
   "id": "5f0797a7-a077-42c4-8220-0a1081815502",
   "metadata": {},
   "outputs": [
    {
     "data": {
      "text/plain": [
       "'r'"
      ]
     },
     "execution_count": 4,
     "metadata": {},
     "output_type": "execute_result"
    }
   ],
   "source": [
    "mystring[8]"
   ]
  },
  {
   "cell_type": "code",
   "execution_count": 5,
   "id": "81b32baa-d32c-4db8-87cf-4b94f5231ae3",
   "metadata": {},
   "outputs": [
    {
     "data": {
      "text/plain": [
       "'r'"
      ]
     },
     "execution_count": 5,
     "metadata": {},
     "output_type": "execute_result"
    }
   ],
   "source": [
    "'Hello World'[8]"
   ]
  },
  {
   "cell_type": "code",
   "execution_count": null,
   "id": "dd3c442a-a3c5-4f0c-b7a7-c68ebd3c405b",
   "metadata": {},
   "outputs": [],
   "source": []
  }
 ],
 "metadata": {
  "kernelspec": {
   "display_name": "Python [conda env:base] *",
   "language": "python",
   "name": "conda-base-py"
  },
  "language_info": {
   "codemirror_mode": {
    "name": "ipython",
    "version": 3
   },
   "file_extension": ".py",
   "mimetype": "text/x-python",
   "name": "python",
   "nbconvert_exporter": "python",
   "pygments_lexer": "ipython3",
   "version": "3.13.5"
  }
 },
 "nbformat": 4,
 "nbformat_minor": 5
}
