{
 "cells": [
  {
   "cell_type": "code",
   "execution_count": 1,
   "id": "962600a1-0224-4a8d-9905-62fcaa877716",
   "metadata": {},
   "outputs": [],
   "source": [
    "my_dict = {'key1':'value1', 'key2':'value2'}"
   ]
  },
  {
   "cell_type": "code",
   "execution_count": 2,
   "id": "9d537742-fd19-4aec-905d-0ff9431ed86c",
   "metadata": {},
   "outputs": [
    {
     "data": {
      "text/plain": [
       "{'key1': 'value1', 'key2': 'value2'}"
      ]
     },
     "execution_count": 2,
     "metadata": {},
     "output_type": "execute_result"
    }
   ],
   "source": [
    "my_dict"
   ]
  },
  {
   "cell_type": "code",
   "execution_count": 4,
   "id": "663043ce-a730-439e-b4b2-3cd7f1ab862d",
   "metadata": {},
   "outputs": [
    {
     "data": {
      "text/plain": [
       "'value1'"
      ]
     },
     "execution_count": 4,
     "metadata": {},
     "output_type": "execute_result"
    }
   ],
   "source": [
    "my_dict['key1']"
   ]
  },
  {
   "cell_type": "code",
   "execution_count": 5,
   "id": "8fd477a0-ecb3-40bb-b3dc-7495728b939a",
   "metadata": {},
   "outputs": [],
   "source": [
    "prices_lookup = {'apple':2.99,'oranges':1.99,'milk':5.80}"
   ]
  },
  {
   "cell_type": "code",
   "execution_count": 6,
   "id": "43d477b7-821e-46c7-a788-96f5ef0dbe30",
   "metadata": {},
   "outputs": [
    {
     "data": {
      "text/plain": [
       "2.99"
      ]
     },
     "execution_count": 6,
     "metadata": {},
     "output_type": "execute_result"
    }
   ],
   "source": [
    "prices_lookup['apple']"
   ]
  },
  {
   "cell_type": "code",
   "execution_count": 7,
   "id": "686024a1-45e0-42db-a6ab-89fe2a9b52f1",
   "metadata": {},
   "outputs": [],
   "source": [
    "d = {'k1':123,'k2':[0,1,2],'k3':{'insideKey':100}}"
   ]
  },
  {
   "cell_type": "code",
   "execution_count": 8,
   "id": "26d73202-eac8-425c-8041-612dedbde4a0",
   "metadata": {},
   "outputs": [
    {
     "data": {
      "text/plain": [
       "[0, 1, 2]"
      ]
     },
     "execution_count": 8,
     "metadata": {},
     "output_type": "execute_result"
    }
   ],
   "source": [
    "d['k2']"
   ]
  },
  {
   "cell_type": "code",
   "execution_count": 9,
   "id": "afd3df8d-e211-4792-ae0d-a56bc902a31d",
   "metadata": {},
   "outputs": [
    {
     "data": {
      "text/plain": [
       "{'insideKey': 100}"
      ]
     },
     "execution_count": 9,
     "metadata": {},
     "output_type": "execute_result"
    }
   ],
   "source": [
    "d['k3']"
   ]
  },
  {
   "cell_type": "code",
   "execution_count": 10,
   "id": "a0771c3d-4aaf-416a-9b7b-1e6f44e90b79",
   "metadata": {},
   "outputs": [
    {
     "data": {
      "text/plain": [
       "100"
      ]
     },
     "execution_count": 10,
     "metadata": {},
     "output_type": "execute_result"
    }
   ],
   "source": [
    "d['k3']['insideKey']"
   ]
  },
  {
   "cell_type": "code",
   "execution_count": 11,
   "id": "8e07a7e5-6b3e-4988-8553-94160064c55b",
   "metadata": {},
   "outputs": [],
   "source": [
    "d = {'key1':['a','b','c']}"
   ]
  },
  {
   "cell_type": "code",
   "execution_count": 12,
   "id": "3b166dd3-8bfd-462d-8909-8129a0c867de",
   "metadata": {},
   "outputs": [
    {
     "data": {
      "text/plain": [
       "{'key1': ['a', 'b', 'c']}"
      ]
     },
     "execution_count": 12,
     "metadata": {},
     "output_type": "execute_result"
    }
   ],
   "source": [
    "d"
   ]
  },
  {
   "cell_type": "code",
   "execution_count": 14,
   "id": "3b3c8199-ada9-4861-bae4-29920d763b1d",
   "metadata": {},
   "outputs": [],
   "source": [
    "mylist = d['key1']"
   ]
  },
  {
   "cell_type": "code",
   "execution_count": 15,
   "id": "059eb418-aa41-470a-b2a8-6c48e9178765",
   "metadata": {},
   "outputs": [
    {
     "data": {
      "text/plain": [
       "['a', 'b', 'c']"
      ]
     },
     "execution_count": 15,
     "metadata": {},
     "output_type": "execute_result"
    }
   ],
   "source": [
    "mylist"
   ]
  },
  {
   "cell_type": "code",
   "execution_count": 16,
   "id": "48e35317-e7b1-416b-99cd-0676fb8b6d0f",
   "metadata": {},
   "outputs": [],
   "source": [
    "letter = mylist[2]"
   ]
  },
  {
   "cell_type": "code",
   "execution_count": 17,
   "id": "dc20604d-b64b-4d78-bf19-24b18fa8e275",
   "metadata": {},
   "outputs": [
    {
     "data": {
      "text/plain": [
       "'C'"
      ]
     },
     "execution_count": 17,
     "metadata": {},
     "output_type": "execute_result"
    }
   ],
   "source": [
    "letter.upper()"
   ]
  },
  {
   "cell_type": "code",
   "execution_count": 18,
   "id": "67755be8-0da5-42a1-92bd-2952071d5a5b",
   "metadata": {},
   "outputs": [
    {
     "data": {
      "text/plain": [
       "{'key1': ['a', 'b', 'c']}"
      ]
     },
     "execution_count": 18,
     "metadata": {},
     "output_type": "execute_result"
    }
   ],
   "source": [
    "d"
   ]
  },
  {
   "cell_type": "code",
   "execution_count": 19,
   "id": "ae80b06b-4581-470f-8c4f-fc1b3d6c32d8",
   "metadata": {},
   "outputs": [
    {
     "data": {
      "text/plain": [
       "['a', 'b', 'c']"
      ]
     },
     "execution_count": 19,
     "metadata": {},
     "output_type": "execute_result"
    }
   ],
   "source": [
    "d['key1']"
   ]
  },
  {
   "cell_type": "code",
   "execution_count": 20,
   "id": "ac49b1f0-87d5-40df-a115-3f41fbfa9154",
   "metadata": {},
   "outputs": [
    {
     "data": {
      "text/plain": [
       "'C'"
      ]
     },
     "execution_count": 20,
     "metadata": {},
     "output_type": "execute_result"
    }
   ],
   "source": [
    "d['key1'][2].upper()"
   ]
  },
  {
   "cell_type": "code",
   "execution_count": 21,
   "id": "11b921a6-78b2-43a3-8e35-0baa7dfe8f65",
   "metadata": {},
   "outputs": [],
   "source": [
    "d = {'k1':100,'k2':200}"
   ]
  },
  {
   "cell_type": "code",
   "execution_count": 22,
   "id": "81f83437-1946-4e47-8af4-aa686590ec7a",
   "metadata": {},
   "outputs": [],
   "source": [
    "d['k3'] = 300"
   ]
  },
  {
   "cell_type": "code",
   "execution_count": 23,
   "id": "1d7bc229-dd42-42a1-890b-9b4ecd95ddd7",
   "metadata": {},
   "outputs": [
    {
     "data": {
      "text/plain": [
       "{'k1': 100, 'k2': 200, 'k3': 300}"
      ]
     },
     "execution_count": 23,
     "metadata": {},
     "output_type": "execute_result"
    }
   ],
   "source": [
    "d"
   ]
  },
  {
   "cell_type": "code",
   "execution_count": 24,
   "id": "27051dde-0659-402a-b042-83b6a1cbae7b",
   "metadata": {},
   "outputs": [],
   "source": [
    "d['k1'] = 'NEW VALUE'"
   ]
  },
  {
   "cell_type": "code",
   "execution_count": 25,
   "id": "a3ffd2c6-be09-4879-bd0e-ba7d28d3a2a5",
   "metadata": {},
   "outputs": [
    {
     "data": {
      "text/plain": [
       "{'k1': 'NEW VALUE', 'k2': 200, 'k3': 300}"
      ]
     },
     "execution_count": 25,
     "metadata": {},
     "output_type": "execute_result"
    }
   ],
   "source": [
    "d"
   ]
  },
  {
   "cell_type": "code",
   "execution_count": 26,
   "id": "d7840783-a3a1-4d59-b9fc-0de6ccf27f3f",
   "metadata": {},
   "outputs": [],
   "source": [
    "d = {'k1':100,'k2':200,'k3':300}"
   ]
  },
  {
   "cell_type": "code",
   "execution_count": 27,
   "id": "91df261c-eb2e-49ec-8181-ff75f14f12a0",
   "metadata": {},
   "outputs": [
    {
     "data": {
      "text/plain": [
       "dict_keys(['k1', 'k2', 'k3'])"
      ]
     },
     "execution_count": 27,
     "metadata": {},
     "output_type": "execute_result"
    }
   ],
   "source": [
    "d.keys()"
   ]
  },
  {
   "cell_type": "code",
   "execution_count": 28,
   "id": "d25fd3b0-72f0-47c3-b9fe-667d08f38d63",
   "metadata": {},
   "outputs": [
    {
     "data": {
      "text/plain": [
       "dict_values([100, 200, 300])"
      ]
     },
     "execution_count": 28,
     "metadata": {},
     "output_type": "execute_result"
    }
   ],
   "source": [
    "d.values()"
   ]
  },
  {
   "cell_type": "code",
   "execution_count": 29,
   "id": "38f4dee3-ed43-42d2-88a9-7c03099a8839",
   "metadata": {},
   "outputs": [
    {
     "data": {
      "text/plain": [
       "dict_items([('k1', 100), ('k2', 200), ('k3', 300)])"
      ]
     },
     "execution_count": 29,
     "metadata": {},
     "output_type": "execute_result"
    }
   ],
   "source": [
    "d.items()"
   ]
  },
  {
   "cell_type": "code",
   "execution_count": null,
   "id": "eabc8d59-0cf3-404b-a6ad-3b45f8875cdc",
   "metadata": {},
   "outputs": [],
   "source": []
  }
 ],
 "metadata": {
  "kernelspec": {
   "display_name": "Python [conda env:base] *",
   "language": "python",
   "name": "conda-base-py"
  },
  "language_info": {
   "codemirror_mode": {
    "name": "ipython",
    "version": 3
   },
   "file_extension": ".py",
   "mimetype": "text/x-python",
   "name": "python",
   "nbconvert_exporter": "python",
   "pygments_lexer": "ipython3",
   "version": "3.13.5"
  }
 },
 "nbformat": 4,
 "nbformat_minor": 5
}
