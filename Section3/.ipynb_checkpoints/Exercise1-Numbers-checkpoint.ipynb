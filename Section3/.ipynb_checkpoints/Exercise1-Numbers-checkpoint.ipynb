{
 "cells": [
  {
   "cell_type": "code",
   "execution_count": 1,
   "id": "ae742243-dc4f-4e7e-9e0d-e8cc0342d9d6",
   "metadata": {},
   "outputs": [],
   "source": [
    "#Write an expression that equals 100. "
   ]
  },
  {
   "cell_type": "code",
   "execution_count": 2,
   "id": "5b659736-ac72-4cac-86cf-99a41af4372c",
   "metadata": {},
   "outputs": [],
   "source": [
    "#See if you can use more than one arithmetic operator! Write only one expression and submit only one line of code."
   ]
  },
  {
   "cell_type": "code",
   "execution_count": 7,
   "id": "bfb732a1-e92d-4fb9-93ab-6ce5b3c09555",
   "metadata": {},
   "outputs": [
    {
     "data": {
      "text/plain": [
       "100"
      ]
     },
     "execution_count": 7,
     "metadata": {},
     "output_type": "execute_result"
    }
   ],
   "source": [
    "(10 * 20) - (10 ** 2)"
   ]
  },
  {
   "cell_type": "code",
   "execution_count": null,
   "id": "1a4696d3-cf98-452a-9c58-e15988b74284",
   "metadata": {},
   "outputs": [],
   "source": []
  }
 ],
 "metadata": {
  "kernelspec": {
   "display_name": "Python [conda env:base] *",
   "language": "python",
   "name": "conda-base-py"
  },
  "language_info": {
   "codemirror_mode": {
    "name": "ipython",
    "version": 3
   },
   "file_extension": ".py",
   "mimetype": "text/x-python",
   "name": "python",
   "nbconvert_exporter": "python",
   "pygments_lexer": "ipython3",
   "version": "3.13.5"
  }
 },
 "nbformat": 4,
 "nbformat_minor": 5
}
