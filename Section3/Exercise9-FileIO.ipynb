{
 "cells": [
  {
   "cell_type": "code",
   "execution_count": 1,
   "id": "f76fa57a-7d84-4b21-94f2-5e2552302276",
   "metadata": {},
   "outputs": [],
   "source": [
    "#This exercise will require several lines of code.\n",
    "#Write a script that opens a file named 'test.txt' , writes 'Hello World'  to the file, then closes it.\n",
    "#For example, the following code opens a file called 'myfile.txt' , writes 'This is my file' , and closes it:\n",
    "\n",
    "    #x = open('myfile.txt', 'w')\n",
    "    #x.write('This is my file')\n",
    "    #x.close()"
   ]
  },
  {
   "cell_type": "code",
   "execution_count": 2,
   "id": "6e3104fd-9fc6-49c6-b4d3-122e4657f701",
   "metadata": {},
   "outputs": [],
   "source": [
    "with open('test.txt', mode='w') as f:\n",
    "    f.write('Hello World')"
   ]
  },
  {
   "cell_type": "code",
   "execution_count": null,
   "id": "f6d0a99f-f40d-4ab1-a76c-1ec824613421",
   "metadata": {},
   "outputs": [],
   "source": []
  },
  {
   "cell_type": "code",
   "execution_count": null,
   "id": "62c4d73a-caae-4b8e-a3c3-5497ae4745c7",
   "metadata": {},
   "outputs": [],
   "source": []
  }
 ],
 "metadata": {
  "kernelspec": {
   "display_name": "Python [conda env:base] *",
   "language": "python",
   "name": "conda-base-py"
  },
  "language_info": {
   "codemirror_mode": {
    "name": "ipython",
    "version": 3
   },
   "file_extension": ".py",
   "mimetype": "text/x-python",
   "name": "python",
   "nbconvert_exporter": "python",
   "pygments_lexer": "ipython3",
   "version": "3.13.5"
  }
 },
 "nbformat": 4,
 "nbformat_minor": 5
}
