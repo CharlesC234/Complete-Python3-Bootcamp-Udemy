{
 "cells": [
  {
   "cell_type": "code",
   "execution_count": 1,
   "id": "8923e34a-a6cf-458d-b881-80ad15f533a8",
   "metadata": {},
   "outputs": [],
   "source": [
    "# Use string slicing to grab the word 'ink'  from inside 'tinker' \n",
    "# For example, 'education'[3:6]  returns 'cat' \n",
    "# Remember that when slicing you only go up to but not including the end index.\n",
    "# You should only write one line of code for this. Do not assign a variable name to the string."
   ]
  },
  {
   "cell_type": "code",
   "execution_count": 3,
   "id": "be1526b8-b28e-4b69-9109-7b1ed8c8671b",
   "metadata": {},
   "outputs": [
    {
     "data": {
      "text/plain": [
       "'ink'"
      ]
     },
     "execution_count": 3,
     "metadata": {},
     "output_type": "execute_result"
    }
   ],
   "source": [
    "'tinker'[1:4]"
   ]
  },
  {
   "cell_type": "code",
   "execution_count": null,
   "id": "af7b2684-b32f-49ce-bc91-103d470568d4",
   "metadata": {},
   "outputs": [],
   "source": []
  }
 ],
 "metadata": {
  "kernelspec": {
   "display_name": "Python [conda env:base] *",
   "language": "python",
   "name": "conda-base-py"
  },
  "language_info": {
   "codemirror_mode": {
    "name": "ipython",
    "version": 3
   },
   "file_extension": ".py",
   "mimetype": "text/x-python",
   "name": "python",
   "nbconvert_exporter": "python",
   "pygments_lexer": "ipython3",
   "version": "3.13.5"
  }
 },
 "nbformat": 4,
 "nbformat_minor": 5
}
