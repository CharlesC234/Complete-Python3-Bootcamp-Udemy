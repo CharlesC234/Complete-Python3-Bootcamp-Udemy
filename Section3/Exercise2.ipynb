{
 "cells": [
  {
   "cell_type": "code",
   "execution_count": 1,
   "id": "824f31f8-daaa-4b2a-a9bc-a7db9f349c64",
   "metadata": {},
   "outputs": [],
   "source": [
    "# Lines that start with hashtags are comments\n",
    "# Write your code below that prints out \"Hello World\"\n",
    "# Make sure your spacing and capitalization matches."
   ]
  },
  {
   "cell_type": "code",
   "execution_count": 2,
   "id": "6ea4aab1-ba0b-4ca7-bb38-acdf233feb76",
   "metadata": {},
   "outputs": [
    {
     "name": "stdout",
     "output_type": "stream",
     "text": [
      "Hello World\n"
     ]
    }
   ],
   "source": [
    "print(\"Hello World\")"
   ]
  },
  {
   "cell_type": "code",
   "execution_count": null,
   "id": "bcb8979a-7618-49a8-a18e-a8aeb2581b00",
   "metadata": {},
   "outputs": [],
   "source": []
  }
 ],
 "metadata": {
  "kernelspec": {
   "display_name": "Python [conda env:base] *",
   "language": "python",
   "name": "conda-base-py"
  },
  "language_info": {
   "codemirror_mode": {
    "name": "ipython",
    "version": 3
   },
   "file_extension": ".py",
   "mimetype": "text/x-python",
   "name": "python",
   "nbconvert_exporter": "python",
   "pygments_lexer": "ipython3",
   "version": "3.13.5"
  }
 },
 "nbformat": 4,
 "nbformat_minor": 5
}
