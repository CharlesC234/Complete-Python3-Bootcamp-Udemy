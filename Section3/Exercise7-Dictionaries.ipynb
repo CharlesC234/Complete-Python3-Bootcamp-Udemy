{
 "cells": [
  {
   "cell_type": "code",
   "execution_count": 1,
   "id": "b3555f1a-99a7-4f2f-b6f8-0e756a7a6ce9",
   "metadata": {},
   "outputs": [],
   "source": [
    "#Create a dictionary where all the keys are strings, and all the values are integers.\n",
    "#For example:\n",
    "\n",
    "#{'Monday':19, 'Tuesday':20}\n",
    "\n",
    "#Just write the dictionary on a single line, don't assign a variable name to the dictionary."
   ]
  },
  {
   "cell_type": "code",
   "execution_count": null,
   "id": "7af6e3c7-fab1-46de-bede-161cf30bdf04",
   "metadata": {},
   "outputs": [],
   "source": [
    "{'Price1': 100,'Price2':150}"
   ]
  }
 ],
 "metadata": {
  "kernelspec": {
   "display_name": "Python [conda env:base] *",
   "language": "python",
   "name": "conda-base-py"
  },
  "language_info": {
   "codemirror_mode": {
    "name": "ipython",
    "version": 3
   },
   "file_extension": ".py",
   "mimetype": "text/x-python",
   "name": "python",
   "nbconvert_exporter": "python",
   "pygments_lexer": "ipython3",
   "version": "3.13.5"
  }
 },
 "nbformat": 4,
 "nbformat_minor": 5
}
