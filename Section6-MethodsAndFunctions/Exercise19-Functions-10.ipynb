{
 "cells": [
  {
   "cell_type": "code",
   "execution_count": 1,
   "id": "492903cb-864a-4a3b-9878-2128555a995f",
   "metadata": {},
   "outputs": [],
   "source": [
    "# Define a function called myfunc that takes in a string, and returns a matching string where every even letter is \n",
    "# uppercase, and every odd letter is lowercase. Assume that the incoming string only contains letters, and don't \n",
    "# worry about numbers, spaces or punctuation. The output string can start with either an uppercase or lowercase letter, \n",
    "# so long as letters alternate throughout the string.\n",
    "\n",
    "# Remember, don't run the function, simply provide the definition. "
   ]
  },
  {
   "cell_type": "code",
   "execution_count": 15,
   "id": "487500c2-d711-46b6-b334-d53ff6228c79",
   "metadata": {},
   "outputs": [],
   "source": [
    "def myfunc(word):\n",
    "    newWord = \"\"\n",
    "    for i,letter in enumerate(word):\n",
    "        if(i % 2 == 0):\n",
    "            newWord += letter.upper()\n",
    "        else:\n",
    "            newWord += letter.lower()\n",
    "    return newWord"
   ]
  },
  {
   "cell_type": "code",
   "execution_count": 17,
   "id": "6af6d050-e5e2-42d8-9f28-c859d1d307ed",
   "metadata": {},
   "outputs": [
    {
     "data": {
      "text/plain": [
       "'TeStInG'"
      ]
     },
     "execution_count": 17,
     "metadata": {},
     "output_type": "execute_result"
    }
   ],
   "source": [
    "myfunc(\"testing\")"
   ]
  },
  {
   "cell_type": "code",
   "execution_count": null,
   "id": "b56e868c-6beb-4187-8da5-5b91ba5cba27",
   "metadata": {},
   "outputs": [],
   "source": []
  }
 ],
 "metadata": {
  "kernelspec": {
   "display_name": "Python [conda env:base] *",
   "language": "python",
   "name": "conda-base-py"
  },
  "language_info": {
   "codemirror_mode": {
    "name": "ipython",
    "version": 3
   },
   "file_extension": ".py",
   "mimetype": "text/x-python",
   "name": "python",
   "nbconvert_exporter": "python",
   "pygments_lexer": "ipython3",
   "version": "3.13.5"
  }
 },
 "nbformat": 4,
 "nbformat_minor": 5
}
