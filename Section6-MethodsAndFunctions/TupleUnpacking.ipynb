{
 "cells": [
  {
   "cell_type": "code",
   "execution_count": 1,
   "id": "212d741b-7cb4-4740-b29a-9a5071ebfc73",
   "metadata": {},
   "outputs": [],
   "source": [
    "stock_prices = [('APPL',200),('GOOG',400),('MSFT',100)]"
   ]
  },
  {
   "cell_type": "code",
   "execution_count": 3,
   "id": "64f4480b-01fb-4562-900b-1bc44d72172b",
   "metadata": {},
   "outputs": [
    {
     "name": "stdout",
     "output_type": "stream",
     "text": [
      "('APPL', 200)\n",
      "('GOOG', 400)\n",
      "('MSFT', 100)\n"
     ]
    }
   ],
   "source": [
    "for item in stock_prices:\n",
    "    print(item)"
   ]
  },
  {
   "cell_type": "code",
   "execution_count": 5,
   "id": "e89018c6-d046-4c62-8bd9-d7b47f093583",
   "metadata": {},
   "outputs": [
    {
     "name": "stdout",
     "output_type": "stream",
     "text": [
      "220.0\n",
      "440.0\n",
      "110.0\n"
     ]
    }
   ],
   "source": [
    "for ticker,price in stock_prices:\n",
    "    print(price+(0.1*price))"
   ]
  },
  {
   "cell_type": "code",
   "execution_count": 10,
   "id": "df17c99d-ef10-496d-b4e0-dd8921fbea8e",
   "metadata": {},
   "outputs": [],
   "source": [
    "work_hours = [('Abby',100),('Billy',4000),('Cassie',800)]"
   ]
  },
  {
   "cell_type": "code",
   "execution_count": 8,
   "id": "6dff1329-b038-45c5-951e-eea96067102f",
   "metadata": {},
   "outputs": [],
   "source": [
    "def employee_check(work_hours):\n",
    "    current_max = 0\n",
    "    employee_of_month = ''\n",
    "\n",
    "    for employee,hours in work_hours:\n",
    "        if hours > current_max:\n",
    "            current_max = hours\n",
    "            employee_of_month = employee\n",
    "        else:\n",
    "            pass\n",
    "\n",
    "    # Return\n",
    "    return(employee_of_month,current_max)"
   ]
  },
  {
   "cell_type": "code",
   "execution_count": 12,
   "id": "db745508-498b-42c3-bdd1-b6792b26c05a",
   "metadata": {},
   "outputs": [],
   "source": [
    "result = employee_check(work_hours)"
   ]
  },
  {
   "cell_type": "code",
   "execution_count": 13,
   "id": "6f9f91ac-254c-4844-8706-f165c36f2f59",
   "metadata": {},
   "outputs": [
    {
     "data": {
      "text/plain": [
       "('Billy', 4000)"
      ]
     },
     "execution_count": 13,
     "metadata": {},
     "output_type": "execute_result"
    }
   ],
   "source": [
    "result"
   ]
  },
  {
   "cell_type": "code",
   "execution_count": 14,
   "id": "c0503e91-5038-4f53-bc9e-224a5e94067b",
   "metadata": {},
   "outputs": [],
   "source": [
    "name,hours = employee_check(work_hours)"
   ]
  },
  {
   "cell_type": "code",
   "execution_count": 15,
   "id": "7541a734-2eaa-4c1e-a385-cccb814600de",
   "metadata": {},
   "outputs": [
    {
     "data": {
      "text/plain": [
       "'Billy'"
      ]
     },
     "execution_count": 15,
     "metadata": {},
     "output_type": "execute_result"
    }
   ],
   "source": [
    "name"
   ]
  },
  {
   "cell_type": "code",
   "execution_count": 16,
   "id": "3f9d6f15-0ccc-4c66-8de3-b65c1164eda5",
   "metadata": {},
   "outputs": [
    {
     "data": {
      "text/plain": [
       "4000"
      ]
     },
     "execution_count": 16,
     "metadata": {},
     "output_type": "execute_result"
    }
   ],
   "source": [
    "hours"
   ]
  },
  {
   "cell_type": "code",
   "execution_count": 18,
   "id": "52c10479-2e90-4930-957f-6aca51db39bc",
   "metadata": {},
   "outputs": [],
   "source": [
    "item = employee_check(work_hours)"
   ]
  },
  {
   "cell_type": "code",
   "execution_count": 19,
   "id": "bb080dc9-b01b-463a-9734-34ef3127592b",
   "metadata": {},
   "outputs": [
    {
     "data": {
      "text/plain": [
       "('Billy', 4000)"
      ]
     },
     "execution_count": 19,
     "metadata": {},
     "output_type": "execute_result"
    }
   ],
   "source": [
    "item"
   ]
  },
  {
   "cell_type": "code",
   "execution_count": null,
   "id": "9531a25a-407d-480a-9a9e-b884d1d0914c",
   "metadata": {},
   "outputs": [],
   "source": []
  }
 ],
 "metadata": {
  "kernelspec": {
   "display_name": "Python [conda env:base] *",
   "language": "python",
   "name": "conda-base-py"
  },
  "language_info": {
   "codemirror_mode": {
    "name": "ipython",
    "version": 3
   },
   "file_extension": ".py",
   "mimetype": "text/x-python",
   "name": "python",
   "nbconvert_exporter": "python",
   "pygments_lexer": "ipython3",
   "version": "3.13.5"
  }
 },
 "nbformat": 4,
 "nbformat_minor": 5
}
