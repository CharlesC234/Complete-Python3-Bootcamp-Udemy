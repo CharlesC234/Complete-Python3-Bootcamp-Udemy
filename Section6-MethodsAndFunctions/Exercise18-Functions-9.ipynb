{
 "cells": [
  {
   "cell_type": "code",
   "execution_count": 1,
   "id": "04fa0689-b555-4b3f-ac20-5c15054e574b",
   "metadata": {},
   "outputs": [],
   "source": [
    "# Define a function called myfunc that takes in an arbitrary number of arguments, and returns a list containing only those arguments that are even.\n",
    "# Remember, don't run the function, simply provide the definition. "
   ]
  },
  {
   "cell_type": "code",
   "execution_count": 2,
   "id": "80fc53df-7045-4770-ac47-1d69f4eca4c0",
   "metadata": {},
   "outputs": [],
   "source": [
    "def myfunc(*args):\n",
    "    evens = []\n",
    "    for num in args:\n",
    "        if(num % 2 == 0):\n",
    "            evens.append(num)\n",
    "    return evens"
   ]
  },
  {
   "cell_type": "code",
   "execution_count": 3,
   "id": "99c776f2-e12c-4aa7-8119-ad7a33ebacd1",
   "metadata": {},
   "outputs": [
    {
     "data": {
      "text/plain": [
       "[2, 4, 8]"
      ]
     },
     "execution_count": 3,
     "metadata": {},
     "output_type": "execute_result"
    }
   ],
   "source": [
    "myfunc(2,4,5,7,8,7)"
   ]
  },
  {
   "cell_type": "code",
   "execution_count": null,
   "id": "c5cb0c9e-b6fc-49f4-9420-f536ed870e9b",
   "metadata": {},
   "outputs": [],
   "source": []
  }
 ],
 "metadata": {
  "kernelspec": {
   "display_name": "Python [conda env:base] *",
   "language": "python",
   "name": "conda-base-py"
  },
  "language_info": {
   "codemirror_mode": {
    "name": "ipython",
    "version": 3
   },
   "file_extension": ".py",
   "mimetype": "text/x-python",
   "name": "python",
   "nbconvert_exporter": "python",
   "pygments_lexer": "ipython3",
   "version": "3.13.5"
  }
 },
 "nbformat": 4,
 "nbformat_minor": 5
}
