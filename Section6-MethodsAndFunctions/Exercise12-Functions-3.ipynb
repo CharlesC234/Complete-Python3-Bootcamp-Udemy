{
 "cells": [
  {
   "cell_type": "code",
   "execution_count": 1,
   "id": "db4e01e7-9a39-4e1a-b484-9763f89b3ed9",
   "metadata": {},
   "outputs": [],
   "source": [
    "# Define a function called myfunc that takes in a Boolean value (True or False). If True, return 'Hello', and if False, return 'Goodbye'\n",
    "# Remember, don't run the function, simply provide the definition. "
   ]
  },
  {
   "cell_type": "code",
   "execution_count": 2,
   "id": "9b7ee05a-70c7-48a9-8a45-e732b370c0aa",
   "metadata": {},
   "outputs": [],
   "source": [
    "def myfunc(a):\n",
    "    if a:\n",
    "        return 'Hello'\n",
    "    else:\n",
    "        return 'Goodbye'"
   ]
  },
  {
   "cell_type": "code",
   "execution_count": 3,
   "id": "697f49ac-15c3-4373-b305-4d5aa6c62741",
   "metadata": {},
   "outputs": [
    {
     "data": {
      "text/plain": [
       "'Goodbye'"
      ]
     },
     "execution_count": 3,
     "metadata": {},
     "output_type": "execute_result"
    }
   ],
   "source": [
    "myfunc(False)"
   ]
  },
  {
   "cell_type": "code",
   "execution_count": null,
   "id": "d701ce9c-c4f8-42e9-80b1-a72bfeb5ff79",
   "metadata": {},
   "outputs": [],
   "source": []
  }
 ],
 "metadata": {
  "kernelspec": {
   "display_name": "Python [conda env:base] *",
   "language": "python",
   "name": "conda-base-py"
  },
  "language_info": {
   "codemirror_mode": {
    "name": "ipython",
    "version": 3
   },
   "file_extension": ".py",
   "mimetype": "text/x-python",
   "name": "python",
   "nbconvert_exporter": "python",
   "pygments_lexer": "ipython3",
   "version": "3.13.5"
  }
 },
 "nbformat": 4,
 "nbformat_minor": 5
}
