{
 "cells": [
  {
   "cell_type": "code",
   "execution_count": 1,
   "id": "5e11ec86-2ede-4431-9086-362917a2f0d5",
   "metadata": {},
   "outputs": [],
   "source": [
    "# Define a function called myfunc that takes in two arguments and returns their sum.\n",
    "# Remember, don't run the function, simply provide the definition."
   ]
  },
  {
   "cell_type": "code",
   "execution_count": 2,
   "id": "84cea8a2-d849-41ac-890c-3541aa6d20a7",
   "metadata": {},
   "outputs": [],
   "source": [
    "def myfunc(x,y):\n",
    "    return x+y"
   ]
  },
  {
   "cell_type": "code",
   "execution_count": 3,
   "id": "4d4a3936-1317-4e3f-8d24-a2ae1f10ae03",
   "metadata": {},
   "outputs": [
    {
     "data": {
      "text/plain": [
       "7"
      ]
     },
     "execution_count": 3,
     "metadata": {},
     "output_type": "execute_result"
    }
   ],
   "source": [
    "myfunc(2,5)"
   ]
  },
  {
   "cell_type": "code",
   "execution_count": null,
   "id": "d5b9006f-3212-4203-9334-14989dbc1232",
   "metadata": {},
   "outputs": [],
   "source": []
  }
 ],
 "metadata": {
  "kernelspec": {
   "display_name": "Python [conda env:base] *",
   "language": "python",
   "name": "conda-base-py"
  },
  "language_info": {
   "codemirror_mode": {
    "name": "ipython",
    "version": 3
   },
   "file_extension": ".py",
   "mimetype": "text/x-python",
   "name": "python",
   "nbconvert_exporter": "python",
   "pygments_lexer": "ipython3",
   "version": "3.13.5"
  }
 },
 "nbformat": 4,
 "nbformat_minor": 5
}
