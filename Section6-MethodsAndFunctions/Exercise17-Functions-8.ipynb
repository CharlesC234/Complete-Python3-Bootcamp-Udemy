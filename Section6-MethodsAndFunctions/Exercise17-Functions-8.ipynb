{
 "cells": [
  {
   "cell_type": "code",
   "execution_count": 1,
   "id": "19eed5c9-01ee-48f7-82df-9daa6c30c818",
   "metadata": {},
   "outputs": [],
   "source": [
    "# Define a function called myfunc that takes in an arbitrary number of arguments, and returns the sum of those arguments.\n",
    "# Remember, don't run the function, simply provide the definition. "
   ]
  },
  {
   "cell_type": "code",
   "execution_count": 2,
   "id": "b76d2662-ae3b-4f89-a1d1-dc0e35e5aa80",
   "metadata": {},
   "outputs": [],
   "source": [
    "def myfunc(*args):\n",
    "    return sum(args)"
   ]
  },
  {
   "cell_type": "code",
   "execution_count": 3,
   "id": "eafdf2dd-9b97-4c6a-b85a-551a986d64ee",
   "metadata": {},
   "outputs": [
    {
     "data": {
      "text/plain": [
       "15"
      ]
     },
     "execution_count": 3,
     "metadata": {},
     "output_type": "execute_result"
    }
   ],
   "source": [
    "myfunc(5,5,5)"
   ]
  },
  {
   "cell_type": "code",
   "execution_count": null,
   "id": "18511ee3-49ae-4802-ae01-53bb906f72a6",
   "metadata": {},
   "outputs": [],
   "source": []
  }
 ],
 "metadata": {
  "kernelspec": {
   "display_name": "Python [conda env:base] *",
   "language": "python",
   "name": "conda-base-py"
  },
  "language_info": {
   "codemirror_mode": {
    "name": "ipython",
    "version": 3
   },
   "file_extension": ".py",
   "mimetype": "text/x-python",
   "name": "python",
   "nbconvert_exporter": "python",
   "pygments_lexer": "ipython3",
   "version": "3.13.5"
  }
 },
 "nbformat": 4,
 "nbformat_minor": 5
}
