{
 "cells": [
  {
   "cell_type": "code",
   "execution_count": 1,
   "id": "4e5450cb-00ca-40f3-b253-f647fa206f74",
   "metadata": {},
   "outputs": [],
   "source": [
    "# Define a function called is_even that takes in one argument, and returns True if the passed-in value is even, False if it is not.\n",
    "# Remember, don't run the function, simply provide the definition. "
   ]
  },
  {
   "cell_type": "code",
   "execution_count": 2,
   "id": "208b3005-4ccb-43c7-8980-819e74b175e7",
   "metadata": {},
   "outputs": [],
   "source": [
    "def is_even(x):\n",
    "    if x % 2 == 0:\n",
    "        return True\n",
    "    else: \n",
    "        return False"
   ]
  },
  {
   "cell_type": "code",
   "execution_count": 3,
   "id": "22ee1f2a-50f1-4b97-9e9c-7e4868821cd9",
   "metadata": {},
   "outputs": [
    {
     "data": {
      "text/plain": [
       "False"
      ]
     },
     "execution_count": 3,
     "metadata": {},
     "output_type": "execute_result"
    }
   ],
   "source": [
    "is_even(5)"
   ]
  },
  {
   "cell_type": "code",
   "execution_count": 4,
   "id": "bc88f8b7-c504-4b35-b7de-20fe7db5c011",
   "metadata": {},
   "outputs": [
    {
     "data": {
      "text/plain": [
       "True"
      ]
     },
     "execution_count": 4,
     "metadata": {},
     "output_type": "execute_result"
    }
   ],
   "source": [
    "is_even(6)"
   ]
  },
  {
   "cell_type": "code",
   "execution_count": null,
   "id": "560f6ca9-28a9-420b-8359-f1ef190582df",
   "metadata": {},
   "outputs": [],
   "source": []
  }
 ],
 "metadata": {
  "kernelspec": {
   "display_name": "Python [conda env:base] *",
   "language": "python",
   "name": "conda-base-py"
  },
  "language_info": {
   "codemirror_mode": {
    "name": "ipython",
    "version": 3
   },
   "file_extension": ".py",
   "mimetype": "text/x-python",
   "name": "python",
   "nbconvert_exporter": "python",
   "pygments_lexer": "ipython3",
   "version": "3.13.5"
  }
 },
 "nbformat": 4,
 "nbformat_minor": 5
}
