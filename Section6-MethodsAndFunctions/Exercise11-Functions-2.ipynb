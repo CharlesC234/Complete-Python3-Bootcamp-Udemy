{
 "cells": [
  {
   "cell_type": "code",
   "execution_count": 2,
   "id": "fc3d6e01-9275-4643-bc7a-ba838117a4e1",
   "metadata": {},
   "outputs": [],
   "source": [
    "# Define a function called myfunc that takes in a name, and prints 'Hello Name' \n",
    "# NOTE: Define the function, but do not run it!\n",
    "# Also, do not use f-strings, as they are not supported in this Coding Exercise."
   ]
  },
  {
   "cell_type": "code",
   "execution_count": 5,
   "id": "a19b6a4f-5a72-4701-a920-175da5ccf954",
   "metadata": {},
   "outputs": [],
   "source": [
    "def myfunc(name):\n",
    "    print(f'Hello {name}')"
   ]
  },
  {
   "cell_type": "code",
   "execution_count": 6,
   "id": "7bd4c109-5451-4e71-b6c9-9bca4f79608f",
   "metadata": {},
   "outputs": [
    {
     "name": "stdout",
     "output_type": "stream",
     "text": [
      "Hello charles\n"
     ]
    }
   ],
   "source": [
    "myfunc(\"charles\")"
   ]
  },
  {
   "cell_type": "code",
   "execution_count": null,
   "id": "9d376e95-95c5-4cdd-90eb-33049349e4e9",
   "metadata": {},
   "outputs": [],
   "source": []
  }
 ],
 "metadata": {
  "kernelspec": {
   "display_name": "Python [conda env:base] *",
   "language": "python",
   "name": "conda-base-py"
  },
  "language_info": {
   "codemirror_mode": {
    "name": "ipython",
    "version": 3
   },
   "file_extension": ".py",
   "mimetype": "text/x-python",
   "name": "python",
   "nbconvert_exporter": "python",
   "pygments_lexer": "ipython3",
   "version": "3.13.5"
  }
 },
 "nbformat": 4,
 "nbformat_minor": 5
}
